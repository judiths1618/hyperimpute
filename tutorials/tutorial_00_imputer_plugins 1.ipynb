{
 "cells": [
  {
   "cell_type": "markdown",
   "id": "molecular-moscow",
   "metadata": {},
   "source": [
    "# Imputation Plugins"
   ]
  },
  {
   "cell_type": "markdown",
   "id": "corrected-basis",
   "metadata": {},
   "source": [
    "Missing data is a crucial issue when applying machine learning algorithms to real-world datasets.\n",
    "\n",
    "**HyperImpute** provides a set of default imputation plugins and can be extended with any number of other plugins."
   ]
  },
  {
   "cell_type": "markdown",
   "id": "auburn-hygiene",
   "metadata": {},
   "source": [
    "### Setup"
   ]
  },
  {
   "cell_type": "code",
   "execution_count": 1,
   "id": "wanted-point",
   "metadata": {},
   "outputs": [],
   "source": [
    "import sys\n",
    "import warnings\n",
    "import time\n",
    "from tqdm import tqdm\n",
    "from math import sqrt\n",
    "\n",
    "import numpy as np\n",
    "import pandas as pd\n",
    "\n",
    "from sklearn.datasets import load_breast_cancer\n",
    "from sklearn.linear_model import LinearRegression\n",
    "from sklearn.model_selection import train_test_split\n",
    "from sklearn.metrics import mean_squared_error, root_mean_squared_error\n",
    "\n",
    "\n",
    "from sklearn.experimental import enable_iterative_imputer\n",
    "from sklearn.impute import IterativeImputer\n",
    "\n",
    "from hyperimpute.plugins.utils.metrics import RMSE\n",
    "from hyperimpute.plugins.utils.simulate import simulate_nan\n",
    "from hyperimpute.utils.serialization import load, save\n",
    "\n",
    "import xgboost as xgb\n",
    "\n",
    "from IPython.display import HTML, display\n",
    "import tabulate\n",
    "\n",
    "if not sys.warnoptions:\n",
    "    warnings.simplefilter(\"ignore\")"
   ]
  },
  {
   "cell_type": "markdown",
   "id": "devoted-console",
   "metadata": {},
   "source": [
    "### Loading the Imputation plugins\n",
    "\n",
    "Make sure that you have installed HyperImpute in your workspace.\n",
    "\n",
    "You can do that by running `pip install .` in the root of the repository."
   ]
  },
  {
   "cell_type": "code",
   "execution_count": 2,
   "id": "coated-innocent",
   "metadata": {},
   "outputs": [],
   "source": [
    "from hyperimpute.plugins.imputers import Imputers, ImputerPlugin\n",
    "\n",
    "imputers = Imputers()"
   ]
  },
  {
   "cell_type": "markdown",
   "id": "refined-booth",
   "metadata": {},
   "source": [
    "### List the existing plugins"
   ]
  },
  {
   "cell_type": "code",
   "execution_count": 3,
   "id": "incident-familiar",
   "metadata": {},
   "outputs": [
    {
     "data": {
      "text/plain": [
       "['softimpute',\n",
       " 'hyperimpute',\n",
       " 'mean',\n",
       " 'missforest',\n",
       " 'sklearn_missforest',\n",
       " 'sklearn_ice',\n",
       " 'ice',\n",
       " 'EM',\n",
       " 'gain',\n",
       " 'mice',\n",
       " 'median',\n",
       " 'miracle',\n",
       " 'miwae',\n",
       " 'nop',\n",
       " 'most_frequent',\n",
       " 'sinkhorn']"
      ]
     },
     "execution_count": 3,
     "metadata": {},
     "output_type": "execute_result"
    }
   ],
   "source": [
    "imputers.list()"
   ]
  },
  {
   "cell_type": "markdown",
   "id": "czech-karma",
   "metadata": {},
   "source": [
    "### Adding a new Imputation plugin\n",
    "\n",
    "By default, HyperImpute automatically loads the imputation plugins with the pattern `hyperimpute/plugins/imputers/plugin_*`. \n",
    "\n",
    "Alternatively, you can call `Imputers().add(<name>, <ImputerPlugin derived class>)` at runtime.\n",
    "\n",
    "Next, we show two examples of custom Imputation plugins."
   ]
  },
  {
   "cell_type": "code",
   "execution_count": null,
   "id": "sophisticated-ground",
   "metadata": {},
   "outputs": [],
   "source": [
    "custom_ice_plugin = \"custom_ice\"\n",
    "\n",
    "\n",
    "class NewPlugin(ImputerPlugin):\n",
    "    def __init__(self):\n",
    "        super().__init__()\n",
    "        lr = LinearRegression()\n",
    "        self._model = IterativeImputer(\n",
    "            estimator=lr, max_iter=500, tol=1e-10, imputation_order=\"roman\"\n",
    "        )\n",
    "\n",
    "    @staticmethod\n",
    "    def name():\n",
    "        return custom_ice_plugin\n",
    "\n",
    "    @staticmethod\n",
    "    def hyperparameter_space():\n",
    "        return []\n",
    "\n",
    "    def _fit(self, *args, **kwargs) -> \"NewPlugin\":\n",
    "        self._model.fit(*args, **kwargs)\n",
    "        return self\n",
    "\n",
    "    def _transform(self, *args, **kwargs):\n",
    "        return self._model.transform(*args, **kwargs)\n",
    "\n",
    "    def save(self) -> bytes:\n",
    "        raise NotImplemented(\"placeholder\")\n",
    "\n",
    "    @classmethod\n",
    "    def load(cls, buff: bytes) -> \"NewPlugin\":\n",
    "        raise NotImplemented(\"placeholder\")\n",
    "\n",
    "\n",
    "imputers.add(custom_ice_plugin, NewPlugin)\n",
    "\n",
    "assert imputers.get(custom_ice_plugin) is not None"
   ]
  },
  {
   "cell_type": "markdown",
   "id": "sufficient-broad",
   "metadata": {},
   "source": [
    "### List the existing plugins\n",
    "\n",
    "Now we should see the new plugins loaded."
   ]
  },
  {
   "cell_type": "code",
   "execution_count": 3,
   "id": "loved-hepatitis",
   "metadata": {},
   "outputs": [
    {
     "data": {
      "text/plain": [
       "['gain',\n",
       " 'mean',\n",
       " 'miracle',\n",
       " 'sinkhorn',\n",
       " 'hyperimpute',\n",
       " 'mice',\n",
       " 'nop',\n",
       " 'sklearn_ice',\n",
       " 'median',\n",
       " 'ice',\n",
       " 'miwae',\n",
       " 'sklearn_missforest',\n",
       " 'missforest',\n",
       " 'EM',\n",
       " 'softimpute',\n",
       " 'most_frequent']"
      ]
     },
     "execution_count": 3,
     "metadata": {},
     "output_type": "execute_result"
    }
   ],
   "source": [
    "imputers.list()"
   ]
  },
  {
   "cell_type": "markdown",
   "id": "dominican-tulsa",
   "metadata": {},
   "source": [
    "### Testing the performance\n",
    "\n",
    "We simulate some testing datasets using 3 amputation strategies:\n",
    "- **Missing Completely At Random** (MCAR) if the probability of being missing is the same for all observations\n",
    "- **Missing At Random** (MAR) if the probability of being missing only depends on observed values.\n",
    "- **Missing Not At Random** (MNAR) if the unavailability of the data depends on both observed and unobserved data such as its value itself."
   ]
  },
  {
   "cell_type": "markdown",
   "id": "advance-expert",
   "metadata": {},
   "source": [
    "#### Load the dataset"
   ]
  },
  {
   "cell_type": "code",
   "execution_count": 4,
   "id": "preceding-vermont",
   "metadata": {},
   "outputs": [],
   "source": [
    "from sklearn.preprocessing import MinMaxScaler\n",
    "import pandas as pd\n",
    "\n",
    "\n",
    "\n",
    "preproc = MinMaxScaler()\n",
    "\n",
    "\n",
    "def dataset():\n",
    "    X, y = load_breast_cancer(return_X_y=True)\n",
    "    X = pd.DataFrame(preproc.fit_transform(X, y))\n",
    "    y = pd.Series(y)\n",
    "\n",
    "    return train_test_split(X, y, test_size=0.2)\n",
    "\n",
    "\n",
    "def ampute(x, mechanism, p_miss):\n",
    "    x_simulated = simulate_nan(np.asarray(x), p_miss, mechanism)\n",
    "\n",
    "    mask = x_simulated[\"mask\"]\n",
    "    x_miss = x_simulated[\"X_incomp\"]\n",
    "\n",
    "    return pd.DataFrame(x), pd.DataFrame(x_miss), pd.DataFrame(mask)"
   ]
  },
  {
   "cell_type": "code",
   "execution_count": null,
   "id": "chief-jimmy",
   "metadata": {},
   "outputs": [],
   "source": [
    "train_datasets = {}\n",
    "test_datasets = {}\n",
    "\n",
    "headers = [\"Plugin\"]\n",
    "\n",
    "pct = 0.3\n",
    "\n",
    "mechanisms = [\"MAR\", \"MNAR\", \"MCAR\"]\n",
    "percentages = [pct]\n",
    "\n",
    "plugins = [\n",
    "    \"gain\", \n",
    "    \"miracle\",\n",
    "    \"hyperimpute\"\n",
    "    ]  # imputers.list()  # default plugins\n",
    "\n",
    "X_train, X_test, y_train, y_test = dataset()\n",
    "\n",
    "# print(X_test, y_test)\n",
    "for ampute_mechanism in mechanisms:\n",
    "    for p_miss in percentages:\n",
    "        if ampute_mechanism not in train_datasets:\n",
    "            train_datasets[ampute_mechanism] = {}\n",
    "\n",
    "        headers.append(ampute_mechanism + \"-\" + str(p_miss))\n",
    "        train_datasets[ampute_mechanism][p_miss] = ampute(X_train, ampute_mechanism, p_miss)\n",
    "\n",
    "        if ampute_mechanism not in test_datasets:\n",
    "            test_datasets[ampute_mechanism] = {}\n",
    "\n",
    "        headers.append(ampute_mechanism + \"-\" + str(p_miss))\n",
    "        test_datasets[ampute_mechanism][p_miss] = ampute(X_test, ampute_mechanism, p_miss)\n",
    "\n"
   ]
  },
  {
   "cell_type": "markdown",
   "id": "opened-finding",
   "metadata": {},
   "source": [
    "#### Evaluation\n",
    "\n",
    "We compare the methods in terms of root mean squared error (RMSE) to the initial dataset."
   ]
  },
  {
   "cell_type": "code",
   "execution_count": 11,
   "id": "recovered-tonight",
   "metadata": {},
   "outputs": [
    {
     "name": "stderr",
     "output_type": "stream",
     "text": [
      "  0%|          | 0/1 [00:00<?, ?it/s]"
     ]
    },
    {
     "name": "stdout",
     "output_type": "stream",
     "text": [
      "MAR, 0.3, TEST mse: 0.0009260710420521995, RMSE: 0.0196453152782611\n",
      "MNAR, 0.3, TEST mse: 0.0015821174530861162, RMSE: 0.03688286178111923\n"
     ]
    },
    {
     "name": "stderr",
     "output_type": "stream",
     "text": [
      "100%|██████████| 1/1 [00:28<00:00, 28.95s/it]"
     ]
    },
    {
     "name": "stdout",
     "output_type": "stream",
     "text": [
      "MCAR, 0.3, TEST mse: 0.0014857501581170308, RMSE: 0.03438636737391567\n"
     ]
    },
    {
     "name": "stderr",
     "output_type": "stream",
     "text": [
      "\n"
     ]
    }
   ],
   "source": [
    "train_results = []\n",
    "test_results = []\n",
    "train_duration = []\n",
    "test_duration = []\n",
    "\n",
    "\n",
    "for plugin in tqdm(plugins):\n",
    "    train_plugin_results = [plugin]\n",
    "    train_plugin_duration = [plugin]\n",
    "\n",
    "    test_plugin_results = [plugin]\n",
    "    test_plugin_duration = [plugin]\n",
    "\n",
    "    for ampute_mechanism in mechanisms:\n",
    "        for p_miss in percentages:\n",
    "            ctx = imputers.get(plugin)\n",
    "            train_x_true, train_x_miss, mask = train_datasets[ampute_mechanism][p_miss]\n",
    "            \n",
    "            # print(train_x_true)\n",
    "\n",
    "            start1 = time.time() \n",
    "            # Fit on training data\n",
    "            train_x_imp = ctx.fit_transform(train_x_miss)\n",
    "\n",
    "            # ctx.fit(train_x_miss)\n",
    "            train_mse = mean_squared_error(train_x_true.values, train_x_imp.values)  # MSE\n",
    "            train_rmse = root_mean_squared_error(train_x_true.values, train_x_imp.values)  # RMSE\n",
    "            buff = save(ctx)  # get the model as bytes\n",
    "            # print(f\"Train imputed: {train_x_imp}\")\n",
    "            # print(f\"Train mse: {train_mse}, RMSE: {train_rmse}\")\n",
    "\n",
    "            end1 = time.time()\n",
    "\n",
    "            train_plugin_duration.append(round(time.time() * 1000 - start1, 4))\n",
    "            train_plugin_results.append(train_rmse)\n",
    "#  =========== start test ==============\n",
    "            start2 = time.time() * 1000\n",
    "            # x_imp = ctx.fit_transform(x_miss)\n",
    "            test_x_true, test_x_miss, mask = test_datasets[ampute_mechanism][p_miss]\n",
    "            # print(test_x_true)\n",
    "\n",
    "            # start = time.time() * 1000\n",
    "            # Fit on training data\n",
    "            test_x_imp = ctx.transform(test_x_miss)\n",
    "\n",
    "            test_mse = mean_squared_error(test_x_true.values, test_x_imp.values)  # MSE\n",
    "            test_rmse = root_mean_squared_error(test_x_true.values, test_x_imp.values)  # RMSE\n",
    "            # buff = save(ctx)  # get the model as bytes\n",
    "            # print(f\"TEST imputed: {test_x_imp}\")\n",
    "            print(f\"{ampute_mechanism}, {p_miss}, TEST mse: {test_mse}, RMSE: {test_rmse}\")\n",
    "            # print(test_mse)\n",
    "            test_plugin_duration.append(round(time.time() * 1000 - start2, 4))\n",
    "            test_plugin_results.append(test_rmse)\n",
    "\n",
    "            # print(plugin_results)\n",
    "    train_results.append(train_plugin_results)\n",
    "    train_duration.append(train_plugin_duration)\n",
    "    \n",
    "    test_results.append(test_plugin_results)\n",
    "    test_duration.append(test_plugin_duration)\n"
   ]
  },
  {
   "cell_type": "markdown",
   "id": "narrative-amount",
   "metadata": {},
   "source": [
    "### Reconstruction error(RMSE)\n",
    "\n",
    "__Interpretation__ : The following table shows the reconstruction error -  the __Root Mean Square Error(RMSE)__ for each method applied on the original full dataset and the imputed dataset."
   ]
  },
  {
   "cell_type": "code",
   "execution_count": 12,
   "id": "normal-decline",
   "metadata": {},
   "outputs": [
    {
     "data": {
      "text/html": [
       "<table>\n",
       "<thead>\n",
       "<tr><th>Plugin     </th><th style=\"text-align: right;\">  MAR-0.3</th><th style=\"text-align: right;\">  MAR-0.3</th><th style=\"text-align: right;\">  MNAR-0.3</th></tr>\n",
       "</thead>\n",
       "<tbody>\n",
       "<tr><td>hyperimpute</td><td style=\"text-align: right;\">0.0173651</td><td style=\"text-align: right;\">0.0319501</td><td style=\"text-align: right;\"> 0.0264947</td></tr>\n",
       "</tbody>\n",
       "</table>"
      ],
      "text/plain": [
       "<IPython.core.display.HTML object>"
      ]
     },
     "metadata": {},
     "output_type": "display_data"
    },
    {
     "data": {
      "text/html": [
       "<table>\n",
       "<thead>\n",
       "<tr><th>Plugin     </th><th style=\"text-align: right;\">  MAR-0.3</th><th style=\"text-align: right;\">  MAR-0.3</th><th style=\"text-align: right;\">  MNAR-0.3</th></tr>\n",
       "</thead>\n",
       "<tbody>\n",
       "<tr><td>hyperimpute</td><td style=\"text-align: right;\">0.0196453</td><td style=\"text-align: right;\">0.0368829</td><td style=\"text-align: right;\"> 0.0343864</td></tr>\n",
       "</tbody>\n",
       "</table>"
      ],
      "text/plain": [
       "<IPython.core.display.HTML object>"
      ]
     },
     "metadata": {},
     "output_type": "display_data"
    }
   ],
   "source": [
    "display(HTML(tabulate.tabulate(train_results, headers=headers, tablefmt=\"html\")))\n",
    "display(HTML(tabulate.tabulate(test_results, headers=headers, tablefmt=\"html\")))"
   ]
  },
  {
   "cell_type": "markdown",
   "id": "overhead-favor",
   "metadata": {},
   "source": [
    "### XGBoost test score after imputation\n",
    "\n",
    "__Interpretation__ The following table shows different metrics on the test set for an XGBoost classifier, after imputing the dataset with each method.\n",
    "Metrics:\n",
    " - accuracy"
   ]
  },
  {
   "cell_type": "code",
   "execution_count": null,
   "id": "nonprofit-content",
   "metadata": {},
   "outputs": [],
   "source": [
    "from sklearn import metrics\n",
    "\n",
    "\n",
    "def get_metrics(X_train, y_train, X_test, y_test):\n",
    "    xgb_clf = xgb.XGBClassifier(verbosity=0)\n",
    "    xgb_clf = xgb_clf.fit(X_train, y_train)\n",
    "\n",
    "    y_pred = xgb_clf.predict(X_test)\n",
    "\n",
    "    score = xgb_clf.score(X_test, y_test)\n",
    "\n",
    "    fpr, tpr, thresholds = metrics.roc_curve(y_test, y_pred)\n",
    "    auroc = metrics.auc(fpr, tpr)\n",
    "\n",
    "    prec, recall, thresholds = metrics.precision_recall_curve(y_test, y_pred)\n",
    "    aurpc = metrics.auc(recall, prec)\n",
    "\n",
    "    return score, auroc, aurpc\n",
    "\n",
    "\n",
    "metrics_headers = [\"Plugin\", \"Accuracy\", \"AUROC\", \"AURPC\"]\n",
    "xgboost_test_score = []\n",
    "\n",
    "\n",
    "x, x_miss, mask = datasets[\"MAR\"][pct]\n",
    "\n",
    "xgboost_test_score.append(\n",
    "    [\"original dataset\", *get_metrics(X_train, y_train, X_test, y_test)]\n",
    ")\n",
    "\n",
    "for plugin in plugins:\n",
    "    X_train_imp = imputers.get(plugin).fit_transform(x_miss.copy())\n",
    "\n",
    "    score, auroc, aurpc = get_metrics(X_train_imp, y_train, X_test, y_test)\n",
    "\n",
    "    xgboost_test_score.append([plugin, score, auroc, aurpc])"
   ]
  },
  {
   "cell_type": "code",
   "execution_count": null,
   "id": "77086d08",
   "metadata": {},
   "outputs": [],
   "source": [
    "display(\n",
    "    HTML(\n",
    "        tabulate.tabulate(xgboost_test_score, headers=metrics_headers, tablefmt=\"html\")\n",
    "    )\n",
    ")"
   ]
  },
  {
   "cell_type": "markdown",
   "id": "numeric-million",
   "metadata": {},
   "source": [
    "### Duration(ms) results\n",
    "\n",
    "__Info__ : Here we measure the duration of imputing the dataset with each method."
   ]
  },
  {
   "cell_type": "code",
   "execution_count": null,
   "id": "viral-suggestion",
   "metadata": {},
   "outputs": [],
   "source": [
    "display(HTML(tabulate.tabulate(duration, headers=headers, tablefmt=\"html\")))"
   ]
  },
  {
   "cell_type": "markdown",
   "id": "earlier-description",
   "metadata": {},
   "source": [
    "## Debugging\n",
    "\n",
    "HyperImpute supports **debug** logging. __WARNING__: Don't use it for release builds. "
   ]
  },
  {
   "cell_type": "code",
   "execution_count": null,
   "id": "constitutional-toyota",
   "metadata": {},
   "outputs": [],
   "source": [
    "from hyperimpute import logger\n",
    "\n",
    "imputers = Imputers()\n",
    "\n",
    "logger.add(sink=sys.stderr, level=\"DEBUG\")\n",
    "\n",
    "x, x_miss, mask = datasets[\"MAR\"][pct]\n",
    "\n",
    "x_imp = imputers.get(\"EM\").fit_transform(x)\n",
    "\n",
    "imputers.get(\"softimpute\").fit_transform(x_miss)"
   ]
  },
  {
   "cell_type": "code",
   "execution_count": null,
   "id": "037f0841",
   "metadata": {},
   "outputs": [],
   "source": []
  }
 ],
 "metadata": {
  "kernelspec": {
   "display_name": "dataImputation",
   "language": "python",
   "name": "python3"
  },
  "language_info": {
   "codemirror_mode": {
    "name": "ipython",
    "version": 3
   },
   "file_extension": ".py",
   "mimetype": "text/x-python",
   "name": "python",
   "nbconvert_exporter": "python",
   "pygments_lexer": "ipython3",
   "version": "3.12.0"
  }
 },
 "nbformat": 4,
 "nbformat_minor": 5
}
